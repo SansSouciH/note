{
 "cells": [
  {
   "cell_type": "markdown",
   "source": [
    "# Python"
   ],
   "metadata": {
    "collapsed": false
   }
  },
  {
   "cell_type": "markdown",
   "id": "36cc9b1a-a092-409b-a919-51eadfa69c1a",
   "metadata": {},
   "source": [
    "## 数据类型"
   ]
  },
  {
   "cell_type": "markdown",
   "id": "e94a3ffc-6671-4d1c-8879-4ab9b5a8a085",
   "metadata": {},
   "source": [
    "基本数据类型\n",
    "> Number、String、List、Tuple、Set、Dictionary\n",
    ">\n",
    "> 其中：\n",
    ">\n",
    "> 不可变数据：Number、String、Tuple\n",
    ">\n",
    "> 可变数据：List、Set、Dictionary\n",
    "\n",
    "\n",
    "type()：返回变量的类型、不会认为子类是一种父类类型\n",
    "isinstance()：会认为子类是一种父类类型\n",
    "\n",
    "### Number\n",
    "> int、float、bool、complex（复数）\n",
    "\n",
    "### String\n",
    "> 由''或者\"\"括起来"
   ]
  },
  {
   "cell_type": "code",
   "execution_count": 2,
   "id": "f03eb21b-8803-4788-a31e-c46363aecafd",
   "metadata": {
    "ExecuteTime": {
     "end_time": "2024-12-11T12:01:30.711346800Z",
     "start_time": "2024-12-11T12:01:30.708259Z"
    }
   },
   "outputs": [
    {
     "name": "stdout",
     "output_type": "stream",
     "text": [
      "hello12\n",
      "hell\n",
      "h\n",
      "el\n",
      "llo12\n",
      "hello12hello12\n"
     ]
    }
   ],
   "source": [
    "str='hello12'\n",
    "print(str)                #打印\n",
    "print(str[0:-3])          #第一个字符到倒数第二个字符\n",
    "print(str[0])             #第一个字符\n",
    "print(str[1:3])           #第二个字符到第三个字符\n",
    "print(str[2:])            #第三个字符开始打印完\n",
    "print(str * 2)            #打印两次str"
   ]
  },
  {
   "cell_type": "markdown",
   "id": "acdb630c-2cc6-429a-88cb-7ff1c905dfee",
   "metadata": {},
   "source": [
    "### bool\n",
    "\n",
    "> bool是int的子类、True等价于1、False等价于0"
   ]
  },
  {
   "cell_type": "code",
   "execution_count": 21,
   "id": "2ad84921-e8c1-4754-a0bc-d38b3450a5da",
   "metadata": {
    "ExecuteTime": {
     "end_time": "2024-12-11T12:01:34.187576300Z",
     "start_time": "2024-12-11T12:01:34.183935700Z"
    }
   },
   "outputs": [
    {
     "name": "stdout",
     "output_type": "stream",
     "text": [
      "False\n",
      "False\n",
      "False\n",
      "True\n",
      "False\n",
      "False\n"
     ]
    }
   ],
   "source": [
    "print(bool(0))\n",
    "print(bool(''))\n",
    "print(bool([]))\n",
    "print(True or False)\n",
    "print(True and False)\n",
    "print(not True)"
   ]
  },
  {
   "cell_type": "markdown",
   "id": "1a0ccdd0-45ae-4c1b-b5d0-b9665fd0de1c",
   "metadata": {},
   "source": [
    "### List\n",
    "> []中可包含：Number、String、List、Tuple、Set、Dictionary类型。用','隔开\n",
    ">\n",
    "> 列表截取语法格式：变量[头下标:尾下标]"
   ]
  },
  {
   "cell_type": "code",
   "execution_count": 4,
   "id": "5ccf98c7-8803-4e3c-b3c6-909997ebea52",
   "metadata": {},
   "outputs": [
    {
     "name": "stdout",
     "output_type": "stream",
     "text": [
      "['hello', 123, 2.12, 'run']\n",
      "hello\n",
      "[123]\n",
      "[123, 'hello', 123, 'hello', 123, 'hello']\n",
      "['hello', 123, 2.12, 'run', 123, 'hello']\n",
      "[99, 'abc', [1, 2, 3], (4, 5, 6), {8, 9, 7}, {'name': 'zhangsan', 'age': 99}]\n"
     ]
    }
   ],
   "source": [
    "list = ['hello', 123, 2.12, 'run']\n",
    "list2 = [99, 'abc', [1,2,3], (4,5,6), {7,8,9}, {'name':'zhangsan', 'age':99}]  \n",
    "#number\\string\\list\\tuple\\set\\dictionay\n",
    "tinylist = [123, 'hello']\n",
    "print(list)\n",
    "print(list[0])                 #打印第一个元素\n",
    "print(list[1:2])               #打印表中第二个元素(和String的截取打印一样)\n",
    "print(tinylist * 3)            #打印表两次\n",
    "print(list + tinylist)         #两个表合起来打印\n",
    "print(list2)"
   ]
  },
  {
   "cell_type": "markdown",
   "id": "e4476494-8329-4138-bd3d-8d520810651e",
   "metadata": {},
   "source": [
    "**常用函数**\n",
    "* append(x)\n",
    "* insert(i, x)\n",
    "* pop([i])：移除并返回指定位置i的元素，默认为末尾元素\n",
    "* remove(x)：移除值为x的元素\n",
    "* clear()：移除列表中的所有元素\n",
    "* index(x)：返回列表中第一个值为x的元素的索引\n",
    "* count(x)：返回列表中x值出现的次数\n",
    "* sort()：对列表排序\n",
    "* reverse()：反转列表\n",
    "* copy()：复制列表\n",
    "* len()：返回列表长度\n",
    "* max()\\min()：返回列表中最大最小值"
   ]
  },
  {
   "cell_type": "markdown",
   "id": "67125ff7-79c8-4d76-9127-5e4e706ea09b",
   "metadata": {},
   "source": [
    "### Tuple\n",
    "> ()中可包含Number、String、Tuple、List、Set、Dictionary。用','隔开，和List的区别在于不可修改数据内容"
   ]
  },
  {
   "cell_type": "code",
   "execution_count": 4,
   "id": "780adcae-9481-4266-8bf8-e73d5e33eeec",
   "metadata": {},
   "outputs": [
    {
     "name": "stdout",
     "output_type": "stream",
     "text": [
      "('hello', 123, 2.12, 'run')\n",
      "hello\n",
      "(123,)\n",
      "('hihi', 123, 'hihi', 123, 'hihi', 123)\n",
      "('hihi', 123, 'hello', 123, 2.12, 'run')\n"
     ]
    }
   ],
   "source": [
    "tuple1 = ('hello', 123, 2.12, 'run')\n",
    "tinytuple = ('hihi', 123)\n",
    "print(tuple1)\n",
    "print(tuple1[0])                #打印第一个元组元素\n",
    "print(tuple1[1:2])              #打印第二个元组元素\n",
    "print(tinytuple * 3)           #打印两次元组\n",
    "print(tinytuple + tuple1)       #两个元组合起来打印"
   ]
  },
  {
   "cell_type": "markdown",
   "id": "df917ccd-b929-4ee2-8a7e-741990762676",
   "metadata": {},
   "source": [
    "**常用函数**\n",
    "* index(x)：返回元组中第一个值为x的索引\n",
    "* count(x)：返回元素x在元组中出现的次数\n",
    "* len()：返回元组长度\n",
    "* max()\\min()：元组中最大值最小值"
   ]
  },
  {
   "cell_type": "markdown",
   "id": "1d7f9f7e-6de2-45aa-80ce-97800fbdbd5f",
   "metadata": {},
   "source": [
    "### Set\n"
   ]
  },
  {
   "cell_type": "markdown",
   "id": "34a2b776-d59f-4ee3-82fd-513a9043d879",
   "metadata": {},
   "source": [
    "> {}中可包括Number、String、Set、Tuple。\n",
    ">\n",
    "> 特点：\n",
    ">\n",
    "> 1. 无序\n",
    "> 2. 不重复\n",
    "> 3. 数据类型唯一\n",
    "> 4. 可算差集、交集、并集"
   ]
  },
  {
   "cell_type": "markdown",
   "id": "88a0a90d-e741-4c56-9f36-fff029d6936c",
   "metadata": {},
   "source": [
    "**常用函数**\n",
    "* add(x)\n",
    "* remove(x)：移除指定元素x，不存在x时报错\n",
    "* discard(x)：移除指定元素x，不存在x时不报错\n",
    "* pop()：移除并返回集合中最后一个元素\n",
    "* union(other_set)：返回两集合的并集，或使用逻辑运算符'|'\n",
    "* intersection(other_set)：返回两集合交集，或使用逻辑运算符'&'\n",
    "* difference(other_set)：返回存在第一个集合但并不在第二个集合的元素\n",
    "* symmetric_difference(other_set)：或使用逻辑运算符'^'。返回两个集合中仅存在于一个集合中的元素的集合。"
   ]
  },
  {
   "cell_type": "code",
   "execution_count": 42,
   "id": "1cd99058-ece3-4c79-aa8a-100552e12394",
   "metadata": {},
   "outputs": [
    {
     "name": "stdout",
     "output_type": "stream",
     "text": [
      "{'d', 'e', 'a', 'b', 'c'}\n",
      "{}\n",
      "{'ghijk'}\n",
      "{'defghijk', 'ghijk'}\n",
      "set()\n",
      "{'ghijk', 'defghijk'}\n"
     ]
    }
   ],
   "source": [
    "set1 = {'a','b','c','d','e'}\n",
    "print(set1)\n",
    "set2 = {}\n",
    "print(set2)\n",
    "a = {'defghijk'}\n",
    "b = {'ghijk'}\n",
    "print(b - a)        #b和a的差集\n",
    "print(a | b)        #a和b的并集\n",
    "print(a & b)        #a和b的交集。没有就set()表示空\n",
    "print(a ^ b)        #a和b不同时存在的元素"
   ]
  },
  {
   "cell_type": "markdown",
   "id": "2db50985-8ee7-467c-ae8b-f2ee675dfc2a",
   "metadata": {},
   "source": [
    "### Dictionary\n",
    "> 格式：{key:value}。键值必须是不可变类型（Tuple、Number、String），值可以是任意元素"
   ]
  },
  {
   "cell_type": "markdown",
   "id": "2cf01a40-fbb0-452c-a325-39b5a44fffd9",
   "metadata": {},
   "source": [
    "**常用函数**\n",
    "* get(key)：不存在则返回None\n",
    "* pop(key)：移除并返回键值为key的元素\n",
    "* popitem()：移除并返回字典中的一对键值（末尾对）\n",
    "* update(dict2)：将字典dict2的键值对更新到字典中\n",
    "* setdefault(key,defualt=None)：返回键key对应的值，如果key不存在则加入key并设置None为key的默认值\n",
    "* `keys()`：返回所有键的视图\n",
    "* `values()`：返回所有值的视图\n",
    "* `items()`：返回所有键值对的视图\n",
    "* `clear()`：移除字典中所有元素\n",
    "* `copy()`：复制字典\n",
    "* `len()`：返回键值对数量"
   ]
  },
  {
   "cell_type": "code",
   "execution_count": 44,
   "id": "852c17f9-84e4-4975-81ae-3d35e46fd9e1",
   "metadata": {},
   "outputs": [
    {
     "name": "stdout",
     "output_type": "stream",
     "text": [
      "{1: {1, 2, 3, 4}, 'name': 'lisi', (1, 2): [1, 2, 3], 3.14: {'age', 13}, None: 'unknown'}\n"
     ]
    }
   ],
   "source": [
    "# 列表、字典、集合不可作为Dictionary类型的键值\n",
    "my_dict = {\n",
    "    1:\"hello\",\n",
    "    \"name\":\"lisi\",\n",
    "    (1,2):[1,2,3],\n",
    "    True:{1,2,3,4},\n",
    "    3.14:{\"age\",13},\n",
    "    None:\"unknown\"\n",
    "}\n",
    "print(my_dict)"
   ]
  },
  {
   "cell_type": "markdown",
   "id": "d5aff743-dcbb-419f-b346-9ddee5523fa2",
   "metadata": {},
   "source": [
    "### bytes\n",
    "> 不可变的二进制序列，bytes元素为0-255的整数值，默认使用UTF-8编码格式\n",
    ">\n",
    "> 常用于处理二进制文件：图像、音频、视频、网络编程"
   ]
  },
  {
   "cell_type": "code",
   "execution_count": 47,
   "id": "aedb702e-2efb-4a38-bfad-6054b0a389b5",
   "metadata": {},
   "outputs": [
    {
     "name": "stdout",
     "output_type": "stream",
     "text": [
      "<class 'bytes'>\n",
      "<class 'bytes'>\n",
      "112\n"
     ]
    }
   ],
   "source": [
    "x = bytes(\"hello bytes\", encoding=\"utf-8\")\n",
    "y = b\"hello\"\n",
    "print(type(x))\n",
    "print(type(y))\n",
    "\n",
    "a = b'p'\n",
    "print(ord(a))   #ord()函数将字符转换为对应整数值"
   ]
  },
  {
   "cell_type": "markdown",
   "id": "3f9eba22-5af3-4aba-906f-3b460713977f",
   "metadata": {},
   "source": [
    "### 基本数据类型转换"
   ]
  },
  {
   "cell_type": "markdown",
   "id": "8390354c-ba36-4f81-a65c-92b85569f8db",
   "metadata": {},
   "source": [
    "* 隐式转换：自动完成\n",
    "* 显式转换：使用类型函数完成\n",
    "\n",
    "**在不同数据类型计算中，较低的数据类型会隐式转换为较高的数据类型**\n",
    "1. 整数 + 浮点数 = 浮点数\n",
    "2. Number类型不能和String类型进行运算符计算，但可以将String用类型函数转换为Number后进行计算\n",
    "\n",
    "类型转换的函数有：\n",
    "int()、float()、str()、list()、tuple()、set()、dict()、ord()等"
   ]
  },
  {
   "cell_type": "markdown",
   "id": "2fe8076f-eb2e-44ba-91ef-b600538c5603",
   "metadata": {},
   "source": [
    "## 基础语法"
   ]
  },
  {
   "cell_type": "markdown",
   "id": "7079850c-1b52-4588-8da8-18cc1c8105c8",
   "metadata": {},
   "source": [
    "### 运算符\n",
    "计算运算符、比较运算符、赋值运算符、位运算符、成员运算符、身份运算符\n",
    "| 运算符                          | 描述                                       |\n",
    "| ------------------------------- | ------------------------------------------ |\n",
    "| +、-、*、/、%                   | 加、减、乘、除、取余                       |\n",
    "| **、//                          | 取幂（2**3结果为8）、整除                  |\n",
    "| ==、!=、>、<、>=、<=            | 等、不等、大于小于、大于等于、小于等于     |\n",
    "| =、+=、-=、*=、/=、%=、**=、//= | 赋值、加等、减等、除等、余等、幂等、整除等 |\n",
    "| &、\\|、^、~、<<、>>             | 位运算符                                   |\n",
    "| and、or、not                    | 逻辑运算符                                 |\n",
    "| in、not in                      | 成员运算符                                 |\n",
    "| is、is not                      | 身份运算符                                 |\n",
    "\n"
   ]
  },
  {
   "cell_type": "markdown",
   "id": "199e2c9c-5427-4ad9-adcd-7ea92efcc09f",
   "metadata": {},
   "source": [
    "### 条件判断\n",
    "> if、elif、else。在python3.10后加入match...case"
   ]
  },
  {
   "cell_type": "code",
   "execution_count": 5,
   "id": "70dcf20e-c500-4898-b4f3-6d3c0d2adb67",
   "metadata": {},
   "outputs": [
    {
     "name": "stdout",
     "output_type": "stream",
     "text": [
      "bad request\n"
     ]
    }
   ],
   "source": [
    "def http_error(status):\n",
    "    match status:\n",
    "        case 400:\n",
    "            return \"bad request\"\n",
    "        case 404:\n",
    "            return \"not found\"\n",
    "        case _:\n",
    "            return \"something's wrong\"\n",
    "\n",
    "mystatus=400\n",
    "print(http_error(mystatus))"
   ]
  },
  {
   "cell_type": "markdown",
   "id": "2420f4f3-f2d2-46d2-8585-656a0e19f45b",
   "metadata": {},
   "source": [
    "### 循环\n",
    "> while、while...else；for、for...else；range()函数、"
   ]
  },
  {
   "cell_type": "code",
   "execution_count": 50,
   "id": "fcddd5e9-a26b-414e-930f-65a25fc9516f",
   "metadata": {},
   "outputs": [
    {
     "name": "stdout",
     "output_type": "stream",
     "text": [
      "5\n"
     ]
    }
   ],
   "source": [
    "n=0\n",
    "while(n<5):\n",
    "    n+=1\n",
    "print(n)"
   ]
  },
  {
   "cell_type": "code",
   "execution_count": 55,
   "id": "6e3674e1-860b-4623-9efa-e01d3ab36913",
   "metadata": {},
   "outputs": [
    {
     "name": "stdout",
     "output_type": "stream",
     "text": [
      "7,6,5,4,34,23,1,12,3,\n",
      "----------\n",
      "2\n",
      "3\n",
      "4\n"
     ]
    }
   ],
   "source": [
    "list=[7,6,5,4,34,23,1,12,3]\n",
    "for i in list:\n",
    "    print(i, end=',')\n",
    "print()\n",
    "print(\"----------\")\n",
    "for num in range(2,5):\n",
    "    print(num)"
   ]
  },
  {
   "cell_type": "markdown",
   "id": "6e948450-3f3c-437e-aba3-b5dc7852882e",
   "metadata": {},
   "source": [
    "### 推导式\n",
    "> 集合变为列表、字典、集合、元组\n",
    "* 列表推导式：[变量 for 变量 in collection if condition]\n",
    "* 字典推导式：{key:key_value for value in collection if condition}\n",
    "* 集合推导式：{变量 for 变量 in collection if 条件}\n",
    "* 元组推导式：(变量 for 变量 in collection if condition)    #注意：元组推导式返回的是生成器对象（只消耗一次），用tuple(a)函数将生成器对象转换为元组"
   ]
  },
  {
   "cell_type": "code",
   "execution_count": 71,
   "id": "83a578b8-6e01-4c9c-aee5-676d39abcef0",
   "metadata": {},
   "outputs": [
    {
     "name": "stdout",
     "output_type": "stream",
     "text": [
      "[0, 3, 6, 9, 12, 15, 18, 21, 24, 27]\n",
      "['ALICE', 'JERRY', 'WENDY', 'SMITH']\n"
     ]
    }
   ],
   "source": [
    "# 列表推导式\n",
    "multiples = [i for i in range(30) if i % 3 == 0]\n",
    "print(multiples)\n",
    "#----------------------------\n",
    "names = ['Bob','Tom','alice','Jerry','Wendy','Smith']\n",
    "new_names = [name.upper()for name in names if len(name)>3]\n",
    "print(new_names)"
   ]
  },
  {
   "cell_type": "code",
   "execution_count": 68,
   "id": "0a83871f-b5c6-441a-9138-9726d4c84bc1",
   "metadata": {},
   "outputs": [
    {
     "name": "stdout",
     "output_type": "stream",
     "text": [
      "{1: 1, 2: 4, 3: 9}\n"
     ]
    }
   ],
   "source": [
    "# 字典推导式\n",
    "dic = {a:a**2 for a in range(1,4)}\n",
    "print(dic)"
   ]
  },
  {
   "cell_type": "code",
   "execution_count": 73,
   "id": "e4eb02ab-c80e-43f9-9253-645b382f539d",
   "metadata": {},
   "outputs": [
    {
     "name": "stdout",
     "output_type": "stream",
     "text": [
      "{16, 25, 4}\n"
     ]
    }
   ],
   "source": [
    "# 集合推导式\n",
    "setnew = {a**2 for a in range(2,6) if a != 3}\n",
    "print(setnew)"
   ]
  },
  {
   "cell_type": "code",
   "execution_count": 3,
   "id": "bcf18244-58f4-4bc9-89a2-fe73f0444ab0",
   "metadata": {},
   "outputs": [
    {
     "name": "stdout",
     "output_type": "stream",
     "text": [
      "生成器对象:<generator object <genexpr> at 0x0000026AF45E0930>\n",
      "(1, 4, 16, 25)\n"
     ]
    }
   ],
   "source": [
    "# 元组推导式\n",
    "my_tuple = (a**2 for a in range(1,6) if a != 3)\n",
    "print(\"生成器对象\",end=':')\n",
    "print(my_tuple)\n",
    "t = tuple(my_tuple)\n",
    "print(t)"
   ]
  },
  {
   "cell_type": "markdown",
   "id": "eab801f1-fcb7-4ccc-8f7f-c28481c3f90b",
   "metadata": {},
   "source": [
    "### 迭代器与生成器\n",
    "> 生成器相当于迭代器：1.惰性求值（适合大数据和无限序列）；2.节省内存（不会一次性执行完所有代码）；\n",
    "* iter()：获取一个对象的迭代器，只要实现了`__iter__()`和`__next__()`方法的对象都可用于迭代\n",
    "* next()：从迭代器中获取下一个元素，没有下一个元素则会抛出StopIteration的异常\n",
    "* yield：关键字，当函数包含这个关键字时，函数就成为了生成器函数，返回的对象是一个生成器对象\n",
    "    * next()方法调用生成器执行到yiled关键字并返回生成器对象，下次调用next时继续执行yiled后面的代码"
   ]
  },
  {
   "cell_type": "code",
   "execution_count": 26,
   "id": "3bd9e92c-e509-492f-b092-3e06e26553a1",
   "metadata": {},
   "outputs": [
    {
     "name": "stdout",
     "output_type": "stream",
     "text": [
      "1\n",
      "4\n",
      "a\n",
      "8\n",
      "a\n"
     ]
    }
   ],
   "source": [
    "# 基本数据类型的迭代\n",
    "list_obj = [1, 2, 3]\n",
    "tuple_obj = (4, 5, 6)\n",
    "dict_obj = {'a': 1, 'b': 2, 'c': 3}\n",
    "set_obj = {7, 8, 9}\n",
    "str_obj = \"abcd\"\n",
    "\n",
    "# list_iter = iter(list_obj)\n",
    "list_iter = list_obj.__iter__()   #list_obj.__iter__()和iter(list_obj)是等价的\n",
    "tuple_iter = iter(tuple_obj)\n",
    "dict_iter = iter(dict_obj)   # 迭代字典的键\n",
    "set_iter = iter(set_obj)\n",
    "str_iter = iter(str_obj)\n",
    "\n",
    "print(list_iter.__next__())   #list_iter.__next__() 和 next(list_iter)的作用一样\n",
    "print(next(tuple_iter))\n",
    "print(next(dict_iter))\n",
    "print(next(set_iter))\n",
    "print(next(str_iter))"
   ]
  },
  {
   "cell_type": "code",
   "execution_count": 18,
   "id": "4a580db4-d900-46da-b775-c05652a5f957",
   "metadata": {},
   "outputs": [
    {
     "name": "stdout",
     "output_type": "stream",
     "text": [
      "2\n",
      "3\n"
     ]
    }
   ],
   "source": [
    "# 自定义类的迭代\n",
    "class myIter:\n",
    "    def __iter__(self):\n",
    "        self.t = 1\n",
    "        return self      # 返回该类的实例。因为该类实现了iter和next方法所以该对象也是一个迭代器对象，所以也可以说是返回了一个迭代器\n",
    "    \n",
    "    def __next__(self):\n",
    "        self.t +=1\n",
    "        print(self.t)\n",
    "\n",
    "m = myIter()\n",
    "mIter = iter(m)\n",
    "next(mIter)\n",
    "next(mIter)"
   ]
  },
  {
   "cell_type": "code",
   "execution_count": 27,
   "id": "a3a047c0-c024-413a-a37b-0c84550f535b",
   "metadata": {},
   "outputs": [
    {
     "name": "stdout",
     "output_type": "stream",
     "text": [
      "5\n",
      "4\n",
      "3\n",
      "2\n",
      "1\n"
     ]
    }
   ],
   "source": [
    "# 生成器yield\n",
    "def countdown(n):\n",
    "    while n>0:\n",
    "        yield n             #next执行到yiled会暂停返回n，下次调用next时会接着执行下面的代码\n",
    "        n -= 1\n",
    "generator = countdown(5)\n",
    "# generator = countdown(5).__iter__()  #这句代码和上一句的作用一模一样只是显示调用__iter__()的区别\n",
    "print(next(generator))      #遇到yield就暂停并返回yield指定的对象\n",
    "print(next(generator))\n",
    "print(next(generator))\n",
    "\n",
    "for item in generator:\n",
    "    print(item)"
   ]
  },
  {
   "cell_type": "markdown",
   "id": "788c9e7d-4505-4cfe-a937-9e32b085776d",
   "metadata": {},
   "source": [
    "### 函数\n",
    "> 参数传递：python中类型属于对象，对象有不同类型的区别，而变量是没有类型的指针引用。\n",
    "> \n",
    "> 不可变类型：Numbers，Tuple，String\n",
    "> 可变类型；List、Set、Dictionary\n",
    ">\n",
    "> python 中一切都是对象，严格意义我们不能说值传递还是引用传递，我们应该说传不可变对象和传可变对象。\n",
    "\n",
    "**一些常用内置函数**\n",
    "* id(对象名)：返回对象内存地址\n",
    "\n",
    "**参数类型**\n",
    "* 必须参数\n",
    "    * `def method(s)`：s为一个必须参数\n",
    "* 关键字参数：在调用参数时写明参数名称，可以在调用时无视定义参数顺序\n",
    "    * `def method(str1, str2)`：定义一个参数\n",
    "    * method(str2 = \"这是一个关键字参数调用1\", str1=\"这是一个关键字参数调用2\")\n",
    "* 默认参数：如果没有传入参数则使用默认参数\n",
    "    * `def method(name, age = 18)`\n",
    "    * method(\"lisi\")：没有传入age参数时，默认使用定义好的age=18\n",
    "* 不定长参数：想在调用函数时传入比当时定义函数时更多的参数使用\n",
    "    * `def method1(name, *ages)`：一个*表示传入tuple类型的参数\n",
    "    * method1(\"lisi\", 18, 19, 20)\n",
    "    * `def method2(name, **value)`：两个*表示传入dict类型的参数\n",
    "    * method2(\"zhangsan\", a = 1, b = 2, c = 3)\n",
    "\n",
    "**return 语句**\n",
    "`return [表达式]`：不带参数return一个None，返回多个对象时会被封装成一个tuple返回，多个变量接收时称”解包“元组，如果一个变量接收时接收整个tuple\n",
    "`def __getitem__(self, index) -> T_co: `：表示定义了一个名为 __getitem__ 的方法，该方法接受一个 index 参数，并且返回一个类型为 T_co 的对象。这里的 T_co 具体是什么类型取决于类的上下文"
   ]
  },
  {
   "cell_type": "markdown",
   "id": "9d5f7ada-04c7-424c-a431-b46b4d00cbd9",
   "metadata": {},
   "source": [
    "### 面向对象"
   ]
  },
  {
   "cell_type": "code",
   "execution_count": 6,
   "id": "570f19a3-d392-4d80-a88a-4151147c1e43",
   "metadata": {},
   "outputs": [
    {
     "ename": "TypeError",
     "evalue": "FatherClassName.__init__() takes 3 positional arguments but 4 were given",
     "output_type": "error",
     "traceback": [
      "\u001B[1;31m---------------------------------------------------------------------------\u001B[0m",
      "\u001B[1;31mTypeError\u001B[0m                                 Traceback (most recent call last)",
      "Cell \u001B[1;32mIn[6], line 36\u001B[0m\n\u001B[0;32m     31\u001B[0m     \u001B[38;5;28;01mdef\u001B[39;00m \u001B[38;5;21m__privateMethod\u001B[39m(\u001B[38;5;28mself\u001B[39m):\n\u001B[0;32m     32\u001B[0m         \u001B[38;5;66;03m# 私有方法在被实例调用时也需要加上self参数\u001B[39;00m\n\u001B[0;32m     33\u001B[0m         \u001B[38;5;28mprint\u001B[39m(\u001B[38;5;124m\"\u001B[39m\u001B[38;5;124m这是一个私有方法\u001B[39m\u001B[38;5;124m\"\u001B[39m)\n\u001B[1;32m---> 36\u001B[0m f \u001B[38;5;241m=\u001B[39m \u001B[43mFatherClassName\u001B[49m\u001B[43m(\u001B[49m\u001B[38;5;124;43m\"\u001B[39;49m\u001B[38;5;124;43mlisi\u001B[39;49m\u001B[38;5;124;43m\"\u001B[39;49m\u001B[43m,\u001B[49m\u001B[43m \u001B[49m\u001B[38;5;241;43m18\u001B[39;49m\u001B[43m,\u001B[49m\u001B[43m \u001B[49m\u001B[38;5;124;43m\"\u001B[39;49m\u001B[38;5;124;43mbeijing\u001B[39;49m\u001B[38;5;124;43m\"\u001B[39;49m\u001B[43m)\u001B[49m\n\u001B[0;32m     37\u001B[0m f\u001B[38;5;241m.\u001B[39mget()\n\u001B[0;32m     38\u001B[0m f\u001B[38;5;241m.\u001B[39mmyMethod()\n",
      "\u001B[1;31mTypeError\u001B[0m: FatherClassName.__init__() takes 3 positional arguments but 4 were given"
     ]
    }
   ],
   "source": [
    "# 普通参数、私有参数、（有参、无参）构造函数、实例函数、类函数、静态函数、继承、重写\n",
    "class FatherClassName:\n",
    "    name = ''\n",
    "    age = -1\n",
    "    __privateElement = '私有参数'     # 有__的私有参数不可被外部类调用\n",
    "    def __init__(self, n, a):\n",
    "        self.name = n\n",
    "        self.age = a\n",
    "    def get(self):\n",
    "        print(\"名字%s，年龄%d\"%(self.name, self.age))\n",
    "\n",
    "    def myMethod(self):\n",
    "        print(\"fatherClassName\")\n",
    "\n",
    "    @classmethod\n",
    "    def myClassMethod(cls):\n",
    "        print(\"myClassMethod\")\n",
    "    @staticmethod\n",
    "    def myStaticMethod():\n",
    "        print(\"myStaticMethod\")\n",
    "        \n",
    "class SonClassName(FatherClassName):\n",
    "    def __init__(self):\n",
    "        super().__init__(\"zhangsan\",20)\n",
    "        super().get()\n",
    "        print(super())\n",
    "        print(self)\n",
    "    def myMethod(self):\n",
    "        print(\"sonClassName\")\n",
    "        self.__privateMethod()\n",
    "    def __privateMethod(self):\n",
    "        # 私有方法在被实例调用时也需要加上self参数\n",
    "        print(\"这是一个私有方法\")\n",
    "\n",
    "    \n",
    "f = FatherClassName(\"lisi\", 18, \"beijing\")\n",
    "f.get()\n",
    "f.myMethod()\n",
    "FatherClassName.myClassMethod()\n",
    "FatherClassName.myStaticMethod()\n",
    "print(\"------------------------\")\n",
    "s = SonClassName()\n",
    "s.get()\n",
    "s.myMethod()\n",
    "print(\"从子类调用父类的重写方法\" ,end = '：')\n",
    "super(SonClassName,s).myMethod()"
   ]
  },
  {
   "cell_type": "markdown",
   "id": "1a55b2da-47d6-478d-bc7c-a3a425f7cf8a",
   "metadata": {},
   "source": [
    "**类的专有方法**（运算符也可重载）：\n",
    "* `__init__` : 构造函数，在生成对象时调用\n",
    "* `__iter__`；返回一个特殊迭代器对象，对象中实现了__next__()方法\n",
    "* `__next__`：python2中的，会返回下一个迭代器对象\n",
    "* `__del__` : 析构函数，释放对象时使用\n",
    "* `__repr__` : 打印，转换\n",
    "* `__setitem__` : 按照索引赋值\n",
    "* `__getitem__`: 按照索引获取值\n",
    "* `__len__`: 获得长度\n",
    "* `__cmp__`: 比较运算\n",
    "* `__call__`: 函数调用\n",
    "* `__add__`: 加运算\n",
    "* `__sub__`: 减运算\n",
    "* `__mul__`: 乘运算\n",
    "* `__truediv__`: 除运算\n",
    "* `__mod__`: 求余运算\n",
    "* `__pow__`: 乘方"
   ]
  },
  {
   "cell_type": "markdown",
   "id": "7369fa60-f279-40ae-b08d-d84c319931fa",
   "metadata": {},
   "source": [
    "### Lambda\n",
    "lambda语法格式：`x = lambda arguments: expression`"
   ]
  },
  {
   "cell_type": "code",
   "execution_count": 5,
   "id": "b6f66860-7cca-425e-9daf-38860c4f02f7",
   "metadata": {},
   "outputs": [
    {
     "name": "stdout",
     "output_type": "stream",
     "text": [
      "5\n"
     ]
    }
   ],
   "source": [
    "f = lambda a,b=3:a+b\n",
    "print(f(2))"
   ]
  },
  {
   "cell_type": "markdown",
   "id": "12fdae36-a7b5-4801-b068-98c4da891c27",
   "metadata": {},
   "source": [
    "### 装饰器\n",
    "`@decorator_name应用在函数、类中方法上`：1.函数；2.方法；3.静态方法；4.类方法；5.生成器函数；6.异步函数（3.5后）"
   ]
  },
  {
   "cell_type": "markdown",
   "id": "d8a94336-92fc-477b-9022-c2b589bf0fb0",
   "metadata": {},
   "source": [
    "**del关键字用法**"
   ]
  },
  {
   "cell_type": "code",
   "execution_count": 28,
   "id": "ebe9c25e-811a-4ef7-8ac1-81e75c458b69",
   "metadata": {},
   "outputs": [],
   "source": [
    "# 删除变量\n",
    "a = 10\n",
    "del a\n",
    "\n",
    "# 删除列表中的元素\n",
    "l = [1,2,3,4,5]\n",
    "del l[2]  #删除下标为2的数\n",
    "del l   # 删除整个列表\n",
    "\n",
    "# 删除切片\n",
    "ll = [1,2,3,4,5]\n",
    "del ll[1:3]   #删除下标为1，2的数\n",
    "\n",
    "# 删除键值对\n",
    "d = {'a':1, 'b':2, 'c':3}\n",
    "del d['b']  # 删除键为b的字典值"
   ]
  },
  {
   "cell_type": "markdown",
   "id": "30191b30-ba88-4d07-86e4-89ea0d4b13d0",
   "metadata": {},
   "source": [
    "### 模块\n",
    "* import module1,module2,module3：引入不同的包\n",
    "* from ... import module1：从模块中导入一个指定的部分（函数、方法、属性）到当前命名空间中\n",
    "* __name__属性：用该属性可以使该程序块仅在该模块自身运行时执行\n",
    "* dir(moduleName)：找到模块内定义的所有名称，以字符串形式返回"
   ]
  },
  {
   "cell_type": "markdown",
   "id": "8122e258-06df-4047-8d55-f895b378ee76",
   "metadata": {},
   "source": [
    "name属性示例代码\n",
    "```python\n",
    "#!/usr/bin/python3\n",
    "# Filename: using_name.py\n",
    "\n",
    "if __name__ == '__main__':\n",
    "   print('程序自身在运行')\n",
    "else:\n",
    "   print('我来自另一模块')\n",
    "\n",
    "```"
   ]
  },
  {
   "cell_type": "markdown",
   "id": "9bfad553-9591-4310-be7a-75e96b673320",
   "metadata": {},
   "source": [
    "### 输入输出\n",
    "* %操作符输出（老版输出方法）：print(\"my name is %s and i am %d years old\"%(name, age))\n",
    "* str.format()方法输出：print(\"my name is {name} and i am {age} years old\".format(name, age))\n",
    "* (3.6版本后)f-strings输出方法：print(f\"my name is {name} i am {age} years old\")"
   ]
  },
  {
   "cell_type": "markdown",
   "id": "3bd65332-e817-4939-8467-f4b711b50575",
   "metadata": {},
   "source": [
    "### File\n",
    "* 基本语法格式：`open(file, mode='r')`\n",
    "* 完整语法格式：`open(file, mode='r', buffering=-1, encoding=None, errors=None, newline=None, closefd=True, opener=None)`\n",
    "    * file：必须，文件相对路径或绝对路径\n",
    "    * mode：可选，文件打开模式\n",
    "    * buffering：设置缓冲\n",
    "    * encoding：解析格式（一般utf-8）\n",
    "    * errors：报错级别\n",
    "    * newline：区分换行符\n",
    "    * closefd：传入的file参数类型\n",
    "    * opener：设置自定义开启器，开启器的返回值必须是一个打开的文件描述符\n",
    " \n",
    " **file中常用的函数c**：https://www.runoob.com/python3/python3-file-methods.html\n",
    "* close()：关闭文件\n",
    "* flush()：刷新缓冲\n",
    "* read([size])：读取指定字节数，若未给定或为负则读取所有\n",
    "* readline([size])：读取整行，包括换行符'\\n'\n",
    "* readlines([sizeint])：sizeint>0时返回总和大约为sizeint字节的行，实际读取值可能比sizeint大所以需要填充缓冲区buffering\n",
    "* write(str)：将str写入文件中，返回字符串长度\n",
    "* writelines(sequence)：向文件中写入一个序列字符串列表\n",
    "\n",
    "\n",
    "---\n",
    "| 模式       | r    | r+   | w    | w+   | a    | a+   |\n",
    "| ---------- | ---- | ---- | ---- | ---- | ---- | ---- |\n",
    "| 读         | +    | +    |      | +    |      | +    |\n",
    "| 写         |      | +    | +    | +    | +    | +    |\n",
    "| 创建       |      |      | +    | +    | +    | +    |\n",
    "| 覆盖       |      |      | +    | +    |      |      |\n",
    "| 指针在开始 | +    | +    | +    | +    |      |      |\n",
    "| 指针在结尾 |      |      |      |      | +    | +    |"
   ]
  },
  {
   "cell_type": "markdown",
   "id": "fa812cdb-b37c-4fa3-acb8-30a4ff90f2de",
   "metadata": {},
   "source": [
    "### 错误和异常\n",
    "```python\n",
    "#语法格式\n",
    "try:\n",
    "    pass         #执行代码...遇到异常进入except，没有异常进入else，最后进finally\n",
    "except (RuntimeError, TypeError, NameError):        # except可以处理多个异常多个异常组成一个元组\n",
    "    print('打印异常信息')\n",
    "else:\n",
    "    print(\"没有任何异常时执行的代码\")\n",
    "finally:\n",
    "    print(\"不管有没有异常都会执行的代码\")\n",
    "\n",
    "# raise关键字触发异常类似Java中的throw\n",
    "x = 10\n",
    "if x > 5:\n",
    "    raise Exception('x不能大于5,x的值为{}'.format(x))   # raise必须带上Exception参数该参数必须是Exception的子类\n",
    "```"
   ]
  },
  {
   "cell_type": "code",
   "execution_count": 6,
   "id": "1471d767",
   "metadata": {},
   "outputs": [
    {
     "name": "stdout",
     "output_type": "stream",
     "text": [
      "try...\n",
      "else...\n",
      "finally...\n"
     ]
    }
   ],
   "source": [
    "try:\n",
    "    print(\"try...\")\n",
    "except (RuntimeError):\n",
    "    print(\"RuntimeError...\")\n",
    "else:\n",
    "    print(\"else...\")\n",
    "finally:\n",
    "    print(\"finally...\")"
   ]
  },
  {
   "cell_type": "markdown",
   "id": "abaab414-cf5a-4666-8761-391dbe20ad33",
   "metadata": {},
   "source": [
    "### 作用域\n",
    "* global关键字：将局部变量变为全局变量\n",
    "* nonlocal：将内部局部变量作用域向外拓展一层"
   ]
  },
  {
   "cell_type": "markdown",
   "id": "660e8b73-a198-4dc3-b257-c831ab1a676a",
   "metadata": {},
   "source": [
    "### 标准库模块\n",
    "* os：提供与操作系统交互的函数，如：创建、移动、删除文件和目录，访问环境变量等\n",
    "* sys：python解释器和系统相关的功能\n",
    "* time：处理时间函数，获取当花钱时间、格式化日期和时间、计时\n",
    "* datetime：高级日期和时间处理函数\n",
    "* random：生成随机整数、浮点数、序列等\n",
    "* math：处理数学函数，三角函数、对数函数、指数函数、常数\n",
    "* re：处理正则表达式，用于文本搜索、替换、分割\n",
    "* json：对象转换为json，json解析为对象\n",
    "* urllib：访问网页 + 处理URL，下载文件、发送post请求、处理cookies"
   ]
  }
 ],
 "metadata": {
  "kernelspec": {
   "display_name": "Python 3 (ipykernel)",
   "language": "python",
   "name": "python3"
  },
  "language_info": {
   "codemirror_mode": {
    "name": "ipython",
    "version": 3
   },
   "file_extension": ".py",
   "mimetype": "text/x-python",
   "name": "python",
   "nbconvert_exporter": "python",
   "pygments_lexer": "ipython3",
   "version": "3.10.15"
  }
 },
 "nbformat": 4,
 "nbformat_minor": 5
}
